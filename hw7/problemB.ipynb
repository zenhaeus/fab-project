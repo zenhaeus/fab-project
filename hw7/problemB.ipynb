{
 "cells": [
  {
   "cell_type": "code",
   "execution_count": 1,
   "metadata": {
    "collapsed": true
   },
   "outputs": [],
   "source": [
    "import numpy as np\n",
    "import random"
   ]
  },
  {
   "cell_type": "code",
   "execution_count": 2,
   "metadata": {
    "collapsed": true
   },
   "outputs": [],
   "source": [
    "ra = [7, 12, 17, 22,\n",
    "      5,  9, 14, 20,\n",
    "      4, 11, 16, 23,\n",
    "      6, 10, 15, 21]\n",
    "ra = [x % 8 for x in ra]\n",
    "\n",
    "constants = [int(abs(np.sin(4*i+4)) * 2**8) & 0xFF for i in range(16)]\n",
    "\n",
    "init_values = [0x67, 0xef, 0x98, 0x10]\n",
    "\n",
    "functions = 4*[lambda b, c, d: (b & c) | (~b & d)] + \\\n",
    "            4*[lambda b, c, d: (d & b) | (~d & c)] + \\\n",
    "            4*[lambda b, c, d: b ^ c ^ d] + \\\n",
    "            4*[lambda b, c, d: c ^ (b | ~d)]\n",
    " \n",
    "index_functions = 4*[lambda i: i] + \\\n",
    "                  4*[lambda i: (5*i + 1)%4] + \\\n",
    "                  4*[lambda i: (3*i + 5)%4] + \\\n",
    "                  4*[lambda i: (7*i)%4]\n",
    " \n",
    "def left_rotate(x, amount):\n",
    "    x &= 0xFF\n",
    "    return ((x<<amount) | (x>>(8-amount))) & 0xFF\n",
    " \n",
    "def md5(message, rotate_amounts = ra):\n",
    " \n",
    "    message = bytearray(message) #copy our input into a mutable buffer\n",
    "    orig_len_in_bits = (8 * len(message)) & 0xffffffffffffffff\n",
    "    message.append(0x8)\n",
    "    while len(message)%16 != 8:\n",
    "        message.append(0)\n",
    "    message += orig_len_in_bits.to_bytes(8, byteorder='little')\n",
    " \n",
    "    hash_pieces = init_values[:]\n",
    " \n",
    "    for chunk_ofst in range(0, len(message), 16):\n",
    "        a, b, c, d = hash_pieces\n",
    "        chunk = message[chunk_ofst:chunk_ofst+16]\n",
    "        for i in range(16):\n",
    "            f = functions[i](b, c, d)\n",
    "            g = index_functions[i](i)\n",
    "            to_rotate = a + f + constants[i] + int.from_bytes(chunk[1*g:1*g+1], byteorder='little')\n",
    "            new_b = (b + left_rotate(to_rotate, rotate_amounts[i])) & 0xFF\n",
    "            a, b, c, d = d, new_b, b, c\n",
    "        for i, val in enumerate([a, b, c, d]):\n",
    "            hash_pieces[i] += val\n",
    "            hash_pieces[i] &= 0xFF\n",
    " \n",
    "    return sum(x<<(8*i) for i, x in enumerate(hash_pieces))\n",
    " \n",
    "def md5_to_hex(digest):\n",
    "    raw = digest.to_bytes(4, byteorder='little')\n",
    "    return '{:8x}'.format(int.from_bytes(raw, byteorder='big'))\n"
   ]
  },
  {
   "cell_type": "code",
   "execution_count": 12,
   "metadata": {
    "collapsed": true
   },
   "outputs": [],
   "source": [
    "def find_collision(n = 1000, rotate_amounts = ra):\n",
    "    hashes = {}\n",
    "    checked = set()\n",
    "    for i in range(n):\n",
    "        # generate random string\n",
    "        while True:\n",
    "            rnd_chars = [random.choice(range(0, 26)) for i in range(4)]\n",
    "            string = \"\".join(chr(x + ord('A')) for x in rnd_chars)\n",
    "            # if string has not been seen yet, break out of loop\n",
    "            if string not in checked:\n",
    "                checked.add(string)\n",
    "                break\n",
    "        hash_ = md5_to_hex(md5(bytes(string, encoding='utf-8'), rotate_amounts))\n",
    "        if hash_ in hashes:\n",
    "            hashes[hash_].add(string)\n",
    "            print(\"Collision found\")\n",
    "            print(\"Strings: \", hashes[hash_], \" both have hash \", hash_)\n",
    "            return\n",
    "        else:\n",
    "            hashes[hash_] = set([string])\n",
    "    print(\"No collision found in {} iterations\".format(n))"
   ]
  },
  {
   "cell_type": "code",
   "execution_count": 10,
   "metadata": {},
   "outputs": [
    {
     "name": "stdout",
     "output_type": "stream",
     "text": [
      "Collision found\n",
      "Strings:  {'NWZS', 'VHZZ'}  both have hash  c429a69e\n"
     ]
    }
   ],
   "source": [
    "find_collision(100000)"
   ]
  },
  {
   "cell_type": "code",
   "execution_count": 428,
   "metadata": {},
   "outputs": [
    {
     "name": "stdout",
     "output_type": "stream",
     "text": [
      "String:\t XEIA\n",
      "Hash:\t 7c610000\n"
     ]
    }
   ],
   "source": [
    "def find_n_zero_hash(n):\n",
    "    hash_ = md5_to_hex(md5(b\"\"))\n",
    "    while(str(hash_)[-n:] != '0'*n):\n",
    "        rnd_chars = [random.choice(range(0, 26)) for i in range(4)]\n",
    "        string = \"\".join(chr(x + ord('A')) for x in rnd_chars)\n",
    "        hash_ = md5_to_hex(md5(bytes(string, encoding='utf-8')))\n",
    "    \n",
    "    print(\"String:\\t\", string)\n",
    "    print(\"Hash:\\t\", hash_)\n",
    "\n",
    "find_n_zero_hash(4)"
   ]
  }
 ],
 "metadata": {
  "kernelspec": {
   "display_name": "Python [conda env:blockchainenv]",
   "language": "python",
   "name": "conda-env-blockchainenv-py"
  },
  "language_info": {
   "codemirror_mode": {
    "name": "ipython",
    "version": 3
   },
   "file_extension": ".py",
   "mimetype": "text/x-python",
   "name": "python",
   "nbconvert_exporter": "python",
   "pygments_lexer": "ipython3",
   "version": "3.6.3"
  }
 },
 "nbformat": 4,
 "nbformat_minor": 2
}

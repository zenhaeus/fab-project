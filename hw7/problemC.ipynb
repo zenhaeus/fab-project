{
 "cells": [
  {
   "cell_type": "markdown",
   "metadata": {},
   "source": [
    "# Problem C"
   ]
  },
  {
   "cell_type": "markdown",
   "metadata": {},
   "source": [
    "Design an efficient implementation of Random Oracle hash function of your own with 32 bit long output. Can you produce a collision, i.e., find two distinct messages x_0, x_1 such that h(x_0) = h (x_1)."
   ]
  },
  {
   "cell_type": "code",
   "execution_count": 57,
   "metadata": {},
   "outputs": [],
   "source": [
    "import random\n",
    "\n",
    "class random_oracle_hash(object):\n",
    "\n",
    "    # dictionnary to store already seen inputs\n",
    "    map_table = dict()\n",
    "    \n",
    "    def get_key_from_hash(self, h):\n",
    "        # get the entries with hash h\n",
    "        values = [key for key, value in self.map_table.items() if value == h]\n",
    "        return values\n",
    "    \n",
    "    def get_all_hashes(self):\n",
    "        # return all stored hashes\n",
    "        return self.map_table.values()\n",
    "\n",
    "    def get_hash(self, s):\n",
    "        # check if entry already exists\n",
    "        if s in self.map_table:\n",
    "            return self.map_table[s]\n",
    "\n",
    "        # assign random integer between 0 and 2^32-1, these values can all be represented in 32 bits\n",
    "        random_value = random.randint(0,2**32-1)\n",
    "        # integer to 32-bits format\n",
    "        h = \"{:032b}\".format(random_value)\n",
    "        # add entry to dictionnary\n",
    "        self.map_table[s] = h\n",
    "\n",
    "        #return hash\n",
    "        return h"
   ]
  },
  {
   "cell_type": "code",
   "execution_count": 59,
   "metadata": {},
   "outputs": [],
   "source": [
    "def find_collision():\n",
    "    # init oracle object\n",
    "    ROH = random_oracle_hash()\n",
    "            \n",
    "    collision_found = False\n",
    "    \n",
    "    iteration_n = 1\n",
    "    # hash integer until a collision is found\n",
    "    while not collision_found:\n",
    "        \n",
    "        # prints every 10000 iteration\n",
    "        if iteration_n % 10000 == 0:\n",
    "            print('iteration {}'.format(iteration_n))\n",
    "        \n",
    "        # all hashes before add entry\n",
    "        hashes_n = [x for x in ROH.get_all_hashes()]\n",
    "        \n",
    "        # add new entry\n",
    "        hash_n = ROH.get_hash(iteration_n)\n",
    "        \n",
    "        # checks if entry is already in dictionnary\n",
    "        if hash_n in hashes_n:\n",
    "            collision_found = True\n",
    "            print('collision found for hash {} at iteration {}'.format(hash_n, iteration_n))\n",
    "            print('for entries {}'.format(ROH.get_key_from_hash(hash_n)))\n",
    "        # if not, continues\n",
    "        else:\n",
    "            iteration_n += 1"
   ]
  },
  {
   "cell_type": "code",
   "execution_count": 60,
   "metadata": {},
   "outputs": [
    {
     "name": "stdout",
     "output_type": "stream",
     "text": [
      "iteration 10000\n",
      "iteration 20000\n",
      "iteration 30000\n",
      "iteration 40000\n",
      "iteration 50000\n",
      "iteration 60000\n",
      "iteration 70000\n",
      "iteration 80000\n",
      "iteration 90000\n",
      "iteration 100000\n",
      "iteration 110000\n",
      "collision found for hash 00110001000101001010000010001011 at iteration 116365\n",
      "for entries [68990, 116365]\n"
     ]
    }
   ],
   "source": [
    "find_collision()"
   ]
  }
 ],
 "metadata": {
  "kernelspec": {
   "display_name": "Python 3",
   "language": "python",
   "name": "python3"
  },
  "language_info": {
   "codemirror_mode": {
    "name": "ipython",
    "version": 3
   },
   "file_extension": ".py",
   "mimetype": "text/x-python",
   "name": "python",
   "nbconvert_exporter": "python",
   "pygments_lexer": "ipython3",
   "version": "3.6.3"
  }
 },
 "nbformat": 4,
 "nbformat_minor": 2
}

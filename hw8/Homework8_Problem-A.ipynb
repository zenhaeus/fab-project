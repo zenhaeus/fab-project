{
 "cells": [
  {
   "cell_type": "markdown",
   "metadata": {},
   "source": [
    "# Problem A\n",
    "Find a nonce which produces five 00000 starting with a message\"BBB\"."
   ]
  },
  {
   "cell_type": "code",
   "execution_count": 1,
   "metadata": {
    "collapsed": true
   },
   "outputs": [],
   "source": [
    "# imports\n",
    "from hashlib import sha256\n",
    "from multiprocessing import Pool\n",
    "import random\n",
    "from time import time"
   ]
  },
  {
   "cell_type": "code",
   "execution_count": 2,
   "metadata": {
    "collapsed": true
   },
   "outputs": [],
   "source": [
    "MESSAGE = \"BBB\"  # Set which message to hash\n",
    "DIFFICULTY = 5  # Set how many 0 (zeros) the hash should start with\n",
    "message_encoded = MESSAGE.encode()\n",
    "startswith_string = \"0\"*DIFFICULTY"
   ]
  },
  {
   "cell_type": "code",
   "execution_count": 3,
   "metadata": {
    "collapsed": true
   },
   "outputs": [],
   "source": [
    "def hash_str(s, nonce):\n",
    "    \"\"\"\n",
    "    return: The sha256 hash of the string concatenated with the nonce.\n",
    "    \"\"\"\n",
    "    nonce = str(nonce)\n",
    "    s = str(s)\n",
    "    return sha256((s+nonce).encode()).hexdigest()"
   ]
  },
  {
   "cell_type": "code",
   "execution_count": 4,
   "metadata": {
    "collapsed": true
   },
   "outputs": [],
   "source": [
    "def check(nonce):\n",
    "    \"\"\"\n",
    "    Returns True only if the MESSAGE and the given nonce generate a sha256 hash starting with DIFFICULTY zeros.\n",
    "    \"\"\"\n",
    "    return sha256(message_encoded+nonce.encode()).hexdigest()[:DIFFICULTY] == startswith_string"
   ]
  },
  {
   "cell_type": "code",
   "execution_count": 5,
   "metadata": {
    "collapsed": true
   },
   "outputs": [],
   "source": [
    "def check_range(from_, to, check_fun):\n",
    "    \"\"\"\n",
    "    Executes the check_fun with each integer value in the interval [from_, to). \n",
    "    Note that 'to' is not included.\n",
    "    :param from_: int, included\n",
    "    :param to: int, not included\n",
    "    :param check_fun: Function taking one string argument and returning a boolean.\n",
    "    :return the first value for which the check_fun returns True. If no such value was found, returns None\n",
    "    \"\"\"\n",
    "    for n in range(from_, to):\n",
    "        if check_fun(str(n)):\n",
    "            return n\n",
    "    return None"
   ]
  },
  {
   "cell_type": "code",
   "execution_count": 6,
   "metadata": {
    "collapsed": true
   },
   "outputs": [],
   "source": [
    "def check_until_found(check_fun, from_=0, random_=None):\n",
    "    \"\"\"\n",
    "    Executes the check_fun until the check_fun returns True.\n",
    "    If random_ is given, checks values between 0 and 10**100 randomly (with random_ as seed).\n",
    "    If not, checks values starting from from_ (default 0).\n",
    "    \n",
    "    :param check_fun: Function taking one string argument and returning a boolean.\n",
    "    :param from_: int, where to start\n",
    "    :param random: if not None, then from_ is ignored, and the nonces are checked randomly with random_ as seed\n",
    "    :return the first value for which the check_fun returns True.\n",
    "    \"\"\"\n",
    "    \n",
    "    assert isinstance(from_, int) and from_ >= 0\n",
    "    assert random_ is None or isinstance(random_, int)\n",
    "    \n",
    "    if random_ is not None:\n",
    "        print(\"check until found randomly (seed: {})\".format(random_))\n",
    "        random.seed(random_)\n",
    "        _max_random = 10**100\n",
    "        while True:\n",
    "            n = random.randint(0, _max_random)\n",
    "            if check_fun(str(n)):\n",
    "                return n\n",
    "        \n",
    "    else:\n",
    "        print(\"check until found linear (starting at {})\".format(from_))\n",
    "        n=from_\n",
    "        while True:\n",
    "            if check_fun(str(n)):\n",
    "                return n\n",
    "            n += 1\n",
    "    "
   ]
  },
  {
   "cell_type": "markdown",
   "metadata": {},
   "source": [
    "## Mining"
   ]
  },
  {
   "cell_type": "code",
   "execution_count": 7,
   "metadata": {
    "scrolled": false
   },
   "outputs": [
    {
     "name": "stdout",
     "output_type": "stream",
     "text": [
      "check until found linear (starting at 0)\n",
      "Found nonce:  452524 resulting in hash: 000003b6ff4686ed99cefbee66679bf4aac527832d1c7bb5b20829556542ebac\n"
     ]
    }
   ],
   "source": [
    "# Find the smallest nonce possible\n",
    "nonce = check_until_found(check_fun=check)\n",
    "print(\"Found nonce: \", nonce, \"resulting in hash:\", hash_str(\"BBB\", nonce=nonce))"
   ]
  },
  {
   "cell_type": "markdown",
   "metadata": {},
   "source": [
    "## Multiprocessor Variant"
   ]
  },
  {
   "cell_type": "code",
   "execution_count": 8,
   "metadata": {},
   "outputs": [
    {
     "name": "stdout",
     "output_type": "stream",
     "text": [
      "check until found randomly (seed: 8814789424)\n",
      "check until found randomly (seed: 4911452912)\n",
      "check until found randomly (seed: 7801095169)\n",
      "Found nonce 5116460947447678134242415639319596110927307992229534935518086940925724834098545044804512960047541820 resulting in the hash 00000b141f8ea6029f96d78d14e45166ccdb9926621eee82fc3ff08b37f88e31\n",
      "-----------------------------------------------------\n",
      "Search took 0.20955634117126465 seconds\n",
      "Terminating pool...done\n"
     ]
    }
   ],
   "source": [
    "# Try random values using multiple, parallel processes.\n",
    "# Terminates the search after the first nonce is found.\n",
    "\n",
    "NBR_SEARCHES = 3  # How many processes to use.\n",
    "pool = Pool(NBR_SEARCHES)\n",
    "start_t = time()\n",
    "def async_callback(result):\n",
    "    h = hash_str(MESSAGE, result)\n",
    "    print(\"Found nonce {} resulting in the hash {}\".format(result, h))\n",
    "    print(\"-----------------------------------------------------\")\n",
    "    t = time()\n",
    "    print(\"Search took {} seconds\".format(t-start_t))\n",
    "    print(\"Terminating pool...\", end='')\n",
    "    pool.close()\n",
    "    pool.terminate()\n",
    "    print(\"done\")\n",
    "\n",
    "answer_obj = None\n",
    "for k in range(NBR_SEARCHES):\n",
    "    answer_obj = pool.apply_async(check_until_found, args=(check, 0, random.randint(0, 10**10)), callback=async_callback, error_callback=lambda err: print(\"There was an error: \", err))"
   ]
  },
  {
   "cell_type": "markdown",
   "metadata": {},
   "source": [
    "### Some noces we found:\n",
    "\n",
    "#### Difficulty 5:\n",
    "Takes almost no time. Max 2 seconds\n",
    "- 452524 (This is the smallest nonce for this difficulty)\n",
    "- 448920218221668008890177062840934330544926360737972523265869865846080527648390579977647209038784885\n",
    "- 5116460947447678134242415639319596110927307992229534935518086940925724834098545044804512960047541820\n",
    "\n",
    "#### Difficulty 6:\n",
    "Normally takes not more than 15 seconds (using 3 cores)\n",
    "- 65940717 (This is the smallest nonce for this difficulty)\n",
    "- 8675333746398227032255764553342247556395403899377430691196750306254353085969357040256482472627797848\n",
    "- 4413630770167078031659890693872953162325083177511466205542441707732338104971993113505158293900532682\n",
    "- 5152273404238328313184681473108899257818981175352338754761401479660692696327989293448925898198808685\n",
    "\n",
    "#### Difficulty 7:\n",
    "Takes around 5 minutes (using 3 cores)\n",
    "- 3734805048231636558000882470270270562362373618415981692215899228998575479488680089323266160261234073 (Interestingly, this nonce was found during the search for difficulty 6)\n",
    "- 6839743781002907121767199644378149046565371769144013797711135188157298083245853823815810267363131859\n",
    "- 371910028096327238548271594327435482125513937170959974809188460980794286980070817604192638247128517"
   ]
  }
 ],
 "metadata": {
  "kernelspec": {
   "display_name": "Python 3",
   "language": "python",
   "name": "python3"
  },
  "language_info": {
   "codemirror_mode": {
    "name": "ipython",
    "version": 3
   },
   "file_extension": ".py",
   "mimetype": "text/x-python",
   "name": "python",
   "nbconvert_exporter": "python",
   "pygments_lexer": "ipython3",
   "version": "3.6.2"
  }
 },
 "nbformat": 4,
 "nbformat_minor": 2
}
